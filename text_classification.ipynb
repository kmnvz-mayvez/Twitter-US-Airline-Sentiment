{
 "cells": [
  {
   "cell_type": "markdown",
   "metadata": {},
   "source": [
    "## TEXT CLASSIFICATION"
   ]
  },
  {
   "cell_type": "markdown",
   "metadata": {},
   "source": [
    "### Prepare"
   ]
  },
  {
   "cell_type": "code",
   "execution_count": 699,
   "metadata": {},
   "outputs": [],
   "source": [
    "# Import library python\n",
    "\n",
    "import tensorflow as tf\n",
    "import pandas as pd\n",
    "import matplotlib.pyplot as plt"
   ]
  },
  {
   "cell_type": "code",
   "execution_count": 700,
   "metadata": {},
   "outputs": [],
   "source": [
    "import requests\n",
    "import random\n",
    "import re"
   ]
  },
  {
   "cell_type": "code",
   "execution_count": 701,
   "metadata": {},
   "outputs": [
    {
     "data": {
      "text/plain": [
       "[PhysicalDevice(name='/physical_device:GPU:0', device_type='GPU')]"
      ]
     },
     "execution_count": 701,
     "metadata": {},
     "output_type": "execute_result"
    }
   ],
   "source": [
    "# Check GPU\n",
    "\n",
    "tf.config.list_physical_devices('GPU')"
   ]
  },
  {
   "cell_type": "code",
   "execution_count": 702,
   "metadata": {},
   "outputs": [],
   "source": [
    "# Add helper function\n",
    "\n",
    "# url = \"https://raw.githubusercontent.com/mrdbourke/tensorflow-deep-learning/main/extras/helper_functions.py\"\n",
    "# response = requests.get(url)\n",
    "# with open(\"helper_functions.py\", \"wb\") as file:\n",
    "#     file.write(response.content)\n",
    "# print(\"'helper_functions.py'\")"
   ]
  },
  {
   "cell_type": "code",
   "execution_count": 703,
   "metadata": {},
   "outputs": [],
   "source": [
    "# Import series of helper functions for the notebook\n",
    "\n",
    "from helper_functions import create_tensorboard_callback, plot_loss_curves"
   ]
  },
  {
   "cell_type": "markdown",
   "metadata": {},
   "source": [
    "### Visualize data"
   ]
  },
  {
   "cell_type": "code",
   "execution_count": 704,
   "metadata": {},
   "outputs": [
    {
     "data": {
      "text/html": [
       "<div>\n",
       "<style scoped>\n",
       "    .dataframe tbody tr th:only-of-type {\n",
       "        vertical-align: middle;\n",
       "    }\n",
       "\n",
       "    .dataframe tbody tr th {\n",
       "        vertical-align: top;\n",
       "    }\n",
       "\n",
       "    .dataframe thead th {\n",
       "        text-align: right;\n",
       "    }\n",
       "</style>\n",
       "<table border=\"1\" class=\"dataframe\">\n",
       "  <thead>\n",
       "    <tr style=\"text-align: right;\">\n",
       "      <th></th>\n",
       "      <th>tweet_id</th>\n",
       "      <th>airline_sentiment</th>\n",
       "      <th>airline_sentiment_confidence</th>\n",
       "      <th>negativereason</th>\n",
       "      <th>negativereason_confidence</th>\n",
       "      <th>airline</th>\n",
       "      <th>airline_sentiment_gold</th>\n",
       "      <th>name</th>\n",
       "      <th>negativereason_gold</th>\n",
       "      <th>retweet_count</th>\n",
       "      <th>text</th>\n",
       "      <th>tweet_coord</th>\n",
       "      <th>tweet_created</th>\n",
       "      <th>tweet_location</th>\n",
       "      <th>user_timezone</th>\n",
       "    </tr>\n",
       "  </thead>\n",
       "  <tbody>\n",
       "    <tr>\n",
       "      <th>0</th>\n",
       "      <td>570306133677760513</td>\n",
       "      <td>neutral</td>\n",
       "      <td>1.0000</td>\n",
       "      <td>NaN</td>\n",
       "      <td>NaN</td>\n",
       "      <td>Virgin America</td>\n",
       "      <td>NaN</td>\n",
       "      <td>cairdin</td>\n",
       "      <td>NaN</td>\n",
       "      <td>0</td>\n",
       "      <td>@VirginAmerica What @dhepburn said.</td>\n",
       "      <td>NaN</td>\n",
       "      <td>2015-02-24 11:35:52 -0800</td>\n",
       "      <td>NaN</td>\n",
       "      <td>Eastern Time (US &amp; Canada)</td>\n",
       "    </tr>\n",
       "    <tr>\n",
       "      <th>1</th>\n",
       "      <td>570301130888122368</td>\n",
       "      <td>positive</td>\n",
       "      <td>0.3486</td>\n",
       "      <td>NaN</td>\n",
       "      <td>0.0000</td>\n",
       "      <td>Virgin America</td>\n",
       "      <td>NaN</td>\n",
       "      <td>jnardino</td>\n",
       "      <td>NaN</td>\n",
       "      <td>0</td>\n",
       "      <td>@VirginAmerica plus you've added commercials t...</td>\n",
       "      <td>NaN</td>\n",
       "      <td>2015-02-24 11:15:59 -0800</td>\n",
       "      <td>NaN</td>\n",
       "      <td>Pacific Time (US &amp; Canada)</td>\n",
       "    </tr>\n",
       "    <tr>\n",
       "      <th>2</th>\n",
       "      <td>570301083672813571</td>\n",
       "      <td>neutral</td>\n",
       "      <td>0.6837</td>\n",
       "      <td>NaN</td>\n",
       "      <td>NaN</td>\n",
       "      <td>Virgin America</td>\n",
       "      <td>NaN</td>\n",
       "      <td>yvonnalynn</td>\n",
       "      <td>NaN</td>\n",
       "      <td>0</td>\n",
       "      <td>@VirginAmerica I didn't today... Must mean I n...</td>\n",
       "      <td>NaN</td>\n",
       "      <td>2015-02-24 11:15:48 -0800</td>\n",
       "      <td>Lets Play</td>\n",
       "      <td>Central Time (US &amp; Canada)</td>\n",
       "    </tr>\n",
       "    <tr>\n",
       "      <th>3</th>\n",
       "      <td>570301031407624196</td>\n",
       "      <td>negative</td>\n",
       "      <td>1.0000</td>\n",
       "      <td>Bad Flight</td>\n",
       "      <td>0.7033</td>\n",
       "      <td>Virgin America</td>\n",
       "      <td>NaN</td>\n",
       "      <td>jnardino</td>\n",
       "      <td>NaN</td>\n",
       "      <td>0</td>\n",
       "      <td>@VirginAmerica it's really aggressive to blast...</td>\n",
       "      <td>NaN</td>\n",
       "      <td>2015-02-24 11:15:36 -0800</td>\n",
       "      <td>NaN</td>\n",
       "      <td>Pacific Time (US &amp; Canada)</td>\n",
       "    </tr>\n",
       "    <tr>\n",
       "      <th>4</th>\n",
       "      <td>570300817074462722</td>\n",
       "      <td>negative</td>\n",
       "      <td>1.0000</td>\n",
       "      <td>Can't Tell</td>\n",
       "      <td>1.0000</td>\n",
       "      <td>Virgin America</td>\n",
       "      <td>NaN</td>\n",
       "      <td>jnardino</td>\n",
       "      <td>NaN</td>\n",
       "      <td>0</td>\n",
       "      <td>@VirginAmerica and it's a really big bad thing...</td>\n",
       "      <td>NaN</td>\n",
       "      <td>2015-02-24 11:14:45 -0800</td>\n",
       "      <td>NaN</td>\n",
       "      <td>Pacific Time (US &amp; Canada)</td>\n",
       "    </tr>\n",
       "  </tbody>\n",
       "</table>\n",
       "</div>"
      ],
      "text/plain": [
       "             tweet_id airline_sentiment  airline_sentiment_confidence  \\\n",
       "0  570306133677760513           neutral                        1.0000   \n",
       "1  570301130888122368          positive                        0.3486   \n",
       "2  570301083672813571           neutral                        0.6837   \n",
       "3  570301031407624196          negative                        1.0000   \n",
       "4  570300817074462722          negative                        1.0000   \n",
       "\n",
       "  negativereason  negativereason_confidence         airline  \\\n",
       "0            NaN                        NaN  Virgin America   \n",
       "1            NaN                     0.0000  Virgin America   \n",
       "2            NaN                        NaN  Virgin America   \n",
       "3     Bad Flight                     0.7033  Virgin America   \n",
       "4     Can't Tell                     1.0000  Virgin America   \n",
       "\n",
       "  airline_sentiment_gold        name negativereason_gold  retweet_count  \\\n",
       "0                    NaN     cairdin                 NaN              0   \n",
       "1                    NaN    jnardino                 NaN              0   \n",
       "2                    NaN  yvonnalynn                 NaN              0   \n",
       "3                    NaN    jnardino                 NaN              0   \n",
       "4                    NaN    jnardino                 NaN              0   \n",
       "\n",
       "                                                text tweet_coord  \\\n",
       "0                @VirginAmerica What @dhepburn said.         NaN   \n",
       "1  @VirginAmerica plus you've added commercials t...         NaN   \n",
       "2  @VirginAmerica I didn't today... Must mean I n...         NaN   \n",
       "3  @VirginAmerica it's really aggressive to blast...         NaN   \n",
       "4  @VirginAmerica and it's a really big bad thing...         NaN   \n",
       "\n",
       "               tweet_created tweet_location               user_timezone  \n",
       "0  2015-02-24 11:35:52 -0800            NaN  Eastern Time (US & Canada)  \n",
       "1  2015-02-24 11:15:59 -0800            NaN  Pacific Time (US & Canada)  \n",
       "2  2015-02-24 11:15:48 -0800      Lets Play  Central Time (US & Canada)  \n",
       "3  2015-02-24 11:15:36 -0800            NaN  Pacific Time (US & Canada)  \n",
       "4  2015-02-24 11:14:45 -0800            NaN  Pacific Time (US & Canada)  "
      ]
     },
     "execution_count": 704,
     "metadata": {},
     "output_type": "execute_result"
    }
   ],
   "source": [
    "df_data = pd.read_csv('Tweets.csv')\n",
    "df_data.head()"
   ]
  },
  {
   "cell_type": "markdown",
   "metadata": {},
   "source": [
    "#### encode"
   ]
  },
  {
   "cell_type": "code",
   "execution_count": 705,
   "metadata": {},
   "outputs": [],
   "source": [
    "#Encoding Categorical to Numeric \n",
    "\n",
    "label_encode={\"airline_sentiment\": {\"negative\":0,\"neutral\" :1,\"positive\":2}}\n",
    "df_data=df_data.replace(label_encode)"
   ]
  },
  {
   "cell_type": "markdown",
   "metadata": {},
   "source": [
    "#### cleansing text"
   ]
  },
  {
   "cell_type": "code",
   "execution_count": 706,
   "metadata": {},
   "outputs": [],
   "source": [
    "def cleansing(df_data):\n",
    "    df_clean = df_data.str.lower()\n",
    "    df_clean = [re.sub(r'[^\\w\\s]', '', i) for i in df_clean]\n",
    "    df_clean = [re.sub(r'http\\S+|www\\S+|pic.twitter.com\\S+|\\S+.com\\S+', '', i) for i in df_clean]\n",
    "    df_clean = [re.sub(r'\\s+', ' ', i) for i in df_clean]\n",
    "    return df_clean"
   ]
  },
  {
   "cell_type": "code",
   "execution_count": 707,
   "metadata": {},
   "outputs": [
    {
     "data": {
      "text/html": [
       "<div>\n",
       "<style scoped>\n",
       "    .dataframe tbody tr th:only-of-type {\n",
       "        vertical-align: middle;\n",
       "    }\n",
       "\n",
       "    .dataframe tbody tr th {\n",
       "        vertical-align: top;\n",
       "    }\n",
       "\n",
       "    .dataframe thead th {\n",
       "        text-align: right;\n",
       "    }\n",
       "</style>\n",
       "<table border=\"1\" class=\"dataframe\">\n",
       "  <thead>\n",
       "    <tr style=\"text-align: right;\">\n",
       "      <th></th>\n",
       "      <th>tweet_id</th>\n",
       "      <th>airline_sentiment</th>\n",
       "      <th>airline_sentiment_confidence</th>\n",
       "      <th>negativereason</th>\n",
       "      <th>negativereason_confidence</th>\n",
       "      <th>airline</th>\n",
       "      <th>airline_sentiment_gold</th>\n",
       "      <th>name</th>\n",
       "      <th>negativereason_gold</th>\n",
       "      <th>retweet_count</th>\n",
       "      <th>tweet_coord</th>\n",
       "      <th>tweet_created</th>\n",
       "      <th>tweet_location</th>\n",
       "      <th>user_timezone</th>\n",
       "      <th>clean_text</th>\n",
       "    </tr>\n",
       "  </thead>\n",
       "  <tbody>\n",
       "    <tr>\n",
       "      <th>0</th>\n",
       "      <td>570306133677760513</td>\n",
       "      <td>1</td>\n",
       "      <td>1.0000</td>\n",
       "      <td>NaN</td>\n",
       "      <td>NaN</td>\n",
       "      <td>Virgin America</td>\n",
       "      <td>NaN</td>\n",
       "      <td>cairdin</td>\n",
       "      <td>NaN</td>\n",
       "      <td>0</td>\n",
       "      <td>NaN</td>\n",
       "      <td>2015-02-24 11:35:52 -0800</td>\n",
       "      <td>NaN</td>\n",
       "      <td>Eastern Time (US &amp; Canada)</td>\n",
       "      <td>virginamerica what dhepburn said</td>\n",
       "    </tr>\n",
       "    <tr>\n",
       "      <th>1</th>\n",
       "      <td>570301130888122368</td>\n",
       "      <td>2</td>\n",
       "      <td>0.3486</td>\n",
       "      <td>NaN</td>\n",
       "      <td>0.0000</td>\n",
       "      <td>Virgin America</td>\n",
       "      <td>NaN</td>\n",
       "      <td>jnardino</td>\n",
       "      <td>NaN</td>\n",
       "      <td>0</td>\n",
       "      <td>NaN</td>\n",
       "      <td>2015-02-24 11:15:59 -0800</td>\n",
       "      <td>NaN</td>\n",
       "      <td>Pacific Time (US &amp; Canada)</td>\n",
       "      <td>virginamerica plus youve to the experience tacky</td>\n",
       "    </tr>\n",
       "    <tr>\n",
       "      <th>2</th>\n",
       "      <td>570301083672813571</td>\n",
       "      <td>1</td>\n",
       "      <td>0.6837</td>\n",
       "      <td>NaN</td>\n",
       "      <td>NaN</td>\n",
       "      <td>Virgin America</td>\n",
       "      <td>NaN</td>\n",
       "      <td>yvonnalynn</td>\n",
       "      <td>NaN</td>\n",
       "      <td>0</td>\n",
       "      <td>NaN</td>\n",
       "      <td>2015-02-24 11:15:48 -0800</td>\n",
       "      <td>Lets Play</td>\n",
       "      <td>Central Time (US &amp; Canada)</td>\n",
       "      <td>virginamerica i didnt today must mean i need t...</td>\n",
       "    </tr>\n",
       "    <tr>\n",
       "      <th>3</th>\n",
       "      <td>570301031407624196</td>\n",
       "      <td>0</td>\n",
       "      <td>1.0000</td>\n",
       "      <td>Bad Flight</td>\n",
       "      <td>0.7033</td>\n",
       "      <td>Virgin America</td>\n",
       "      <td>NaN</td>\n",
       "      <td>jnardino</td>\n",
       "      <td>NaN</td>\n",
       "      <td>0</td>\n",
       "      <td>NaN</td>\n",
       "      <td>2015-02-24 11:15:36 -0800</td>\n",
       "      <td>NaN</td>\n",
       "      <td>Pacific Time (US &amp; Canada)</td>\n",
       "      <td>virginamerica its really aggressive to blast o...</td>\n",
       "    </tr>\n",
       "    <tr>\n",
       "      <th>4</th>\n",
       "      <td>570300817074462722</td>\n",
       "      <td>0</td>\n",
       "      <td>1.0000</td>\n",
       "      <td>Can't Tell</td>\n",
       "      <td>1.0000</td>\n",
       "      <td>Virgin America</td>\n",
       "      <td>NaN</td>\n",
       "      <td>jnardino</td>\n",
       "      <td>NaN</td>\n",
       "      <td>0</td>\n",
       "      <td>NaN</td>\n",
       "      <td>2015-02-24 11:14:45 -0800</td>\n",
       "      <td>NaN</td>\n",
       "      <td>Pacific Time (US &amp; Canada)</td>\n",
       "      <td>virginamerica and its a really big bad thing a...</td>\n",
       "    </tr>\n",
       "  </tbody>\n",
       "</table>\n",
       "</div>"
      ],
      "text/plain": [
       "             tweet_id  airline_sentiment  airline_sentiment_confidence  \\\n",
       "0  570306133677760513                  1                        1.0000   \n",
       "1  570301130888122368                  2                        0.3486   \n",
       "2  570301083672813571                  1                        0.6837   \n",
       "3  570301031407624196                  0                        1.0000   \n",
       "4  570300817074462722                  0                        1.0000   \n",
       "\n",
       "  negativereason  negativereason_confidence         airline  \\\n",
       "0            NaN                        NaN  Virgin America   \n",
       "1            NaN                     0.0000  Virgin America   \n",
       "2            NaN                        NaN  Virgin America   \n",
       "3     Bad Flight                     0.7033  Virgin America   \n",
       "4     Can't Tell                     1.0000  Virgin America   \n",
       "\n",
       "  airline_sentiment_gold        name negativereason_gold  retweet_count  \\\n",
       "0                    NaN     cairdin                 NaN              0   \n",
       "1                    NaN    jnardino                 NaN              0   \n",
       "2                    NaN  yvonnalynn                 NaN              0   \n",
       "3                    NaN    jnardino                 NaN              0   \n",
       "4                    NaN    jnardino                 NaN              0   \n",
       "\n",
       "  tweet_coord              tweet_created tweet_location  \\\n",
       "0         NaN  2015-02-24 11:35:52 -0800            NaN   \n",
       "1         NaN  2015-02-24 11:15:59 -0800            NaN   \n",
       "2         NaN  2015-02-24 11:15:48 -0800      Lets Play   \n",
       "3         NaN  2015-02-24 11:15:36 -0800            NaN   \n",
       "4         NaN  2015-02-24 11:14:45 -0800            NaN   \n",
       "\n",
       "                user_timezone  \\\n",
       "0  Eastern Time (US & Canada)   \n",
       "1  Pacific Time (US & Canada)   \n",
       "2  Central Time (US & Canada)   \n",
       "3  Pacific Time (US & Canada)   \n",
       "4  Pacific Time (US & Canada)   \n",
       "\n",
       "                                          clean_text  \n",
       "0                   virginamerica what dhepburn said  \n",
       "1   virginamerica plus youve to the experience tacky  \n",
       "2  virginamerica i didnt today must mean i need t...  \n",
       "3  virginamerica its really aggressive to blast o...  \n",
       "4  virginamerica and its a really big bad thing a...  "
      ]
     },
     "execution_count": 707,
     "metadata": {},
     "output_type": "execute_result"
    }
   ],
   "source": [
    "df_data['clean_text'] = cleansing(df_data['text'])\n",
    "df_data.drop('text', axis=1, inplace=True)\n",
    "df_data.head()\n"
   ]
  },
  {
   "cell_type": "markdown",
   "metadata": {},
   "source": [
    "#### shuffled"
   ]
  },
  {
   "cell_type": "code",
   "execution_count": 708,
   "metadata": {},
   "outputs": [
    {
     "data": {
      "text/html": [
       "<div>\n",
       "<style scoped>\n",
       "    .dataframe tbody tr th:only-of-type {\n",
       "        vertical-align: middle;\n",
       "    }\n",
       "\n",
       "    .dataframe tbody tr th {\n",
       "        vertical-align: top;\n",
       "    }\n",
       "\n",
       "    .dataframe thead th {\n",
       "        text-align: right;\n",
       "    }\n",
       "</style>\n",
       "<table border=\"1\" class=\"dataframe\">\n",
       "  <thead>\n",
       "    <tr style=\"text-align: right;\">\n",
       "      <th></th>\n",
       "      <th>tweet_id</th>\n",
       "      <th>airline_sentiment</th>\n",
       "      <th>airline_sentiment_confidence</th>\n",
       "      <th>negativereason</th>\n",
       "      <th>negativereason_confidence</th>\n",
       "      <th>airline</th>\n",
       "      <th>airline_sentiment_gold</th>\n",
       "      <th>name</th>\n",
       "      <th>negativereason_gold</th>\n",
       "      <th>retweet_count</th>\n",
       "      <th>tweet_coord</th>\n",
       "      <th>tweet_created</th>\n",
       "      <th>tweet_location</th>\n",
       "      <th>user_timezone</th>\n",
       "      <th>clean_text</th>\n",
       "    </tr>\n",
       "  </thead>\n",
       "  <tbody>\n",
       "    <tr>\n",
       "      <th>4794</th>\n",
       "      <td>569731104070115329</td>\n",
       "      <td>2</td>\n",
       "      <td>1.0000</td>\n",
       "      <td>NaN</td>\n",
       "      <td>NaN</td>\n",
       "      <td>Southwest</td>\n",
       "      <td>NaN</td>\n",
       "      <td>JasmineDT</td>\n",
       "      <td>NaN</td>\n",
       "      <td>1</td>\n",
       "      <td>NaN</td>\n",
       "      <td>2015-02-22 21:30:54 -0800</td>\n",
       "      <td>Washington D.C.</td>\n",
       "      <td>Eastern Time (US &amp; Canada)</td>\n",
       "      <td>southwestair youre my early frontrunner for be...</td>\n",
       "    </tr>\n",
       "    <tr>\n",
       "      <th>10480</th>\n",
       "      <td>569263373092823040</td>\n",
       "      <td>0</td>\n",
       "      <td>1.0000</td>\n",
       "      <td>Cancelled Flight</td>\n",
       "      <td>1.0000</td>\n",
       "      <td>US Airways</td>\n",
       "      <td>NaN</td>\n",
       "      <td>ElizabethFrayer</td>\n",
       "      <td>NaN</td>\n",
       "      <td>0</td>\n",
       "      <td>NaN</td>\n",
       "      <td>2015-02-21 14:32:19 -0800</td>\n",
       "      <td>NaN</td>\n",
       "      <td>NaN</td>\n",
       "      <td>usairways how is it that my flt to ewr was can...</td>\n",
       "    </tr>\n",
       "    <tr>\n",
       "      <th>8067</th>\n",
       "      <td>568818669024907264</td>\n",
       "      <td>0</td>\n",
       "      <td>1.0000</td>\n",
       "      <td>Late Flight</td>\n",
       "      <td>0.6770</td>\n",
       "      <td>Delta</td>\n",
       "      <td>NaN</td>\n",
       "      <td>The_Radifier</td>\n",
       "      <td>NaN</td>\n",
       "      <td>0</td>\n",
       "      <td>NaN</td>\n",
       "      <td>2015-02-20 09:05:13 -0800</td>\n",
       "      <td>Arlington, VA</td>\n",
       "      <td>Atlantic Time (Canada)</td>\n",
       "      <td>jetblue what is going on with your bdl to dca ...</td>\n",
       "    </tr>\n",
       "    <tr>\n",
       "      <th>8880</th>\n",
       "      <td>567775864679456768</td>\n",
       "      <td>1</td>\n",
       "      <td>1.0000</td>\n",
       "      <td>NaN</td>\n",
       "      <td>NaN</td>\n",
       "      <td>Delta</td>\n",
       "      <td>NaN</td>\n",
       "      <td>rnlewisjr</td>\n",
       "      <td>NaN</td>\n",
       "      <td>0</td>\n",
       "      <td>NaN</td>\n",
       "      <td>2015-02-17 12:01:29 -0800</td>\n",
       "      <td>iPhone: 60.495510,-151.064590</td>\n",
       "      <td>Alaska</td>\n",
       "      <td>jetblue do they have to depart from washington dc</td>\n",
       "    </tr>\n",
       "    <tr>\n",
       "      <th>8292</th>\n",
       "      <td>568526521910079488</td>\n",
       "      <td>0</td>\n",
       "      <td>0.6625</td>\n",
       "      <td>Customer Service Issue</td>\n",
       "      <td>0.3394</td>\n",
       "      <td>Delta</td>\n",
       "      <td>NaN</td>\n",
       "      <td>beantoon</td>\n",
       "      <td>NaN</td>\n",
       "      <td>0</td>\n",
       "      <td>NaN</td>\n",
       "      <td>2015-02-19 13:44:20 -0800</td>\n",
       "      <td>Plymouth,  MA</td>\n",
       "      <td>NaN</td>\n",
       "      <td>jetblue i can probably find some of them are t...</td>\n",
       "    </tr>\n",
       "  </tbody>\n",
       "</table>\n",
       "</div>"
      ],
      "text/plain": [
       "                 tweet_id  airline_sentiment  airline_sentiment_confidence  \\\n",
       "4794   569731104070115329                  2                        1.0000   \n",
       "10480  569263373092823040                  0                        1.0000   \n",
       "8067   568818669024907264                  0                        1.0000   \n",
       "8880   567775864679456768                  1                        1.0000   \n",
       "8292   568526521910079488                  0                        0.6625   \n",
       "\n",
       "               negativereason  negativereason_confidence     airline  \\\n",
       "4794                      NaN                        NaN   Southwest   \n",
       "10480        Cancelled Flight                     1.0000  US Airways   \n",
       "8067              Late Flight                     0.6770       Delta   \n",
       "8880                      NaN                        NaN       Delta   \n",
       "8292   Customer Service Issue                     0.3394       Delta   \n",
       "\n",
       "      airline_sentiment_gold             name negativereason_gold  \\\n",
       "4794                     NaN        JasmineDT                 NaN   \n",
       "10480                    NaN  ElizabethFrayer                 NaN   \n",
       "8067                     NaN     The_Radifier                 NaN   \n",
       "8880                     NaN        rnlewisjr                 NaN   \n",
       "8292                     NaN         beantoon                 NaN   \n",
       "\n",
       "       retweet_count tweet_coord              tweet_created  \\\n",
       "4794               1         NaN  2015-02-22 21:30:54 -0800   \n",
       "10480              0         NaN  2015-02-21 14:32:19 -0800   \n",
       "8067               0         NaN  2015-02-20 09:05:13 -0800   \n",
       "8880               0         NaN  2015-02-17 12:01:29 -0800   \n",
       "8292               0         NaN  2015-02-19 13:44:20 -0800   \n",
       "\n",
       "                      tweet_location               user_timezone  \\\n",
       "4794                Washington D.C.   Eastern Time (US & Canada)   \n",
       "10480                            NaN                         NaN   \n",
       "8067                   Arlington, VA      Atlantic Time (Canada)   \n",
       "8880   iPhone: 60.495510,-151.064590                      Alaska   \n",
       "8292                   Plymouth,  MA                         NaN   \n",
       "\n",
       "                                              clean_text  \n",
       "4794   southwestair youre my early frontrunner for be...  \n",
       "10480  usairways how is it that my flt to ewr was can...  \n",
       "8067   jetblue what is going on with your bdl to dca ...  \n",
       "8880   jetblue do they have to depart from washington dc  \n",
       "8292   jetblue i can probably find some of them are t...  "
      ]
     },
     "execution_count": 708,
     "metadata": {},
     "output_type": "execute_result"
    }
   ],
   "source": [
    "# Shuffle training dataframe\n",
    "# shuffle with random_state=42 for reproducibility\n",
    "\n",
    "df_shuffled = df_data.sample(frac=1, random_state=42)\n",
    "df_data = df_shuffled \n",
    "df_data.head()"
   ]
  },
  {
   "cell_type": "markdown",
   "metadata": {},
   "source": [
    "#### labels"
   ]
  },
  {
   "cell_type": "code",
   "execution_count": 709,
   "metadata": {},
   "outputs": [
    {
     "name": "stdout",
     "output_type": "stream",
     "text": [
      "[2 0 1]\n"
     ]
    }
   ],
   "source": [
    "# Check unique 'airline_sentiment'\n",
    "\n",
    "unique_sentiments = df_data['airline_sentiment'].unique()\n",
    "print(unique_sentiments)"
   ]
  },
  {
   "cell_type": "code",
   "execution_count": 710,
   "metadata": {},
   "outputs": [
    {
     "data": {
      "text/plain": [
       "airline_sentiment\n",
       "0    9178\n",
       "1    3099\n",
       "2    2363\n",
       "Name: count, dtype: int64"
      ]
     },
     "execution_count": 710,
     "metadata": {},
     "output_type": "execute_result"
    }
   ],
   "source": [
    "# examples of each class\n",
    "\n",
    "df_data.airline_sentiment.value_counts()"
   ]
  },
  {
   "cell_type": "code",
   "execution_count": 711,
   "metadata": {},
   "outputs": [
    {
     "name": "stdout",
     "output_type": "stream",
     "text": [
      "Total samples: 14640\n"
     ]
    }
   ],
   "source": [
    "# samples total\n",
    "\n",
    "print(f\"Total samples: {len(df_data)}\")"
   ]
  },
  {
   "cell_type": "code",
   "execution_count": 712,
   "metadata": {},
   "outputs": [
    {
     "name": "stdout",
     "output_type": "stream",
     "text": [
      "Target: 1 (neutral)\n",
      "clean_text:\n",
      "americanair do you happen to know if that plane will be repainted or fly off into the sunset\n",
      "\n",
      "---\n",
      "\n",
      "Target: 1 (neutral)\n",
      "clean_text:\n",
      "americanair please help us get home tomorrow\n",
      "\n",
      "---\n",
      "\n",
      "Target: 0 (negatif)\n",
      "clean_text:\n",
      "united fingers crossed amp its all intact very disappointed with this experience as before this we were actually saying we enjoyed using you\n",
      "\n",
      "---\n",
      "\n"
     ]
    }
   ],
   "source": [
    "# visualize some random training examples\n",
    "# create random indexes not higher than the total number of samples\n",
    "\n",
    "random_index = random.randint(0, len(df_data)-3) \n",
    "for row in df_shuffled[[\"clean_text\", \"airline_sentiment\"]].iloc[random_index:random_index+3].itertuples():\n",
    "    _, clean_text, airline_sentiment = row\n",
    "    sentiment_label = \"(negatif)\" if airline_sentiment == 0 else \"(neutral)\" if airline_sentiment == 1 else \"(positive)\"\n",
    "    \n",
    "    print(f\"Target: {airline_sentiment} {sentiment_label}\")\n",
    "    print(f\"clean_text:\\n{clean_text}\\n\")\n",
    "    print(\"---\\n\")"
   ]
  },
  {
   "cell_type": "markdown",
   "metadata": {},
   "source": [
    "### Split test"
   ]
  },
  {
   "cell_type": "code",
   "execution_count": 713,
   "metadata": {},
   "outputs": [],
   "source": [
    "from sklearn.model_selection import train_test_split"
   ]
  },
  {
   "cell_type": "code",
   "execution_count": 714,
   "metadata": {},
   "outputs": [],
   "source": [
    "x_train, x_test, y_train, y_test = train_test_split(df_shuffled['clean_text'].to_numpy(),df_shuffled['airline_sentiment'].to_numpy(),\n",
    "    test_size=0.2,\n",
    "    random_state=42,\n",
    "    stratify=df_shuffled['airline_sentiment']\n",
    ")"
   ]
  },
  {
   "cell_type": "code",
   "execution_count": 715,
   "metadata": {},
   "outputs": [
    {
     "data": {
      "text/plain": [
       "(11712, 2928, 11712, 2928)"
      ]
     },
     "execution_count": 715,
     "metadata": {},
     "output_type": "execute_result"
    }
   ],
   "source": [
    "# Check the lengths\n",
    "\n",
    "len(x_train), len(x_test), len(y_train), len(y_test)"
   ]
  },
  {
   "cell_type": "code",
   "execution_count": 716,
   "metadata": {},
   "outputs": [
    {
     "data": {
      "text/plain": [
       "(array(['united when will you have special promotions for flights departing newark nj to st johns antigua',\n",
       "        'americanair about when can i see a new american airlines credit card to replace my usairways dividend mastercard',\n",
       "        'united the people at the counter have been very helpful as you can see nobody is there flight to austin 1055 and still sitting here'],\n",
       "       dtype=object),\n",
       " array([1, 1, 0], dtype=int64))"
      ]
     },
     "execution_count": 716,
     "metadata": {},
     "output_type": "execute_result"
    }
   ],
   "source": [
    "# View the sample training sentences and their labels\n",
    "\n",
    "x_train[:3], y_train[:3]"
   ]
  },
  {
   "cell_type": "markdown",
   "metadata": {},
   "source": [
    "#### Text vectorization (tokenization)\n"
   ]
  },
  {
   "cell_type": "code",
   "execution_count": 717,
   "metadata": {},
   "outputs": [],
   "source": [
    "from tensorflow.keras.layers import TextVectorization\n",
    "\n",
    "# Setup text vectorization with custom variables\n",
    "max_vocab_length = 10000 # max number of words in vocabulary\n",
    "max_length = 50 # max length \n",
    "\n",
    "text_vectorizer = TextVectorization(max_tokens=max_vocab_length,\n",
    "                                    output_mode=\"int\",\n",
    "                                    output_sequence_length=max_length)"
   ]
  },
  {
   "cell_type": "code",
   "execution_count": 718,
   "metadata": {},
   "outputs": [
    {
     "data": {
      "text/plain": [
       "17"
      ]
     },
     "execution_count": 718,
     "metadata": {},
     "output_type": "execute_result"
    }
   ],
   "source": [
    "# Find average number of tokens (words) in training Tweets\n",
    "round(sum([len(i.split()) for i in x_train])/len(x_train))"
   ]
  },
  {
   "cell_type": "code",
   "execution_count": 719,
   "metadata": {},
   "outputs": [],
   "source": [
    "# Fit the text vectorizer to the training text\n",
    "\n",
    "text_vectorizer.adapt(x_train)"
   ]
  },
  {
   "cell_type": "code",
   "execution_count": 720,
   "metadata": {},
   "outputs": [
    {
     "data": {
      "text/plain": [
       "<tf.Tensor: shape=(1, 50), dtype=int64, numpy=\n",
       "array([[ 482,    5,    1,   16,   12, 1234,    0,    0,    0,    0,    0,\n",
       "           0,    0,    0,    0,    0,    0,    0,    0,    0,    0,    0,\n",
       "           0,    0,    0,    0,    0,    0,    0,    0,    0,    0,    0,\n",
       "           0,    0,    0,    0,    0,    0,    0,    0,    0,    0,    0,\n",
       "           0,    0,    0,    0,    0,    0]], dtype=int64)>"
      ]
     },
     "execution_count": 720,
     "metadata": {},
     "output_type": "execute_result"
    }
   ],
   "source": [
    "# Create sample sentence and tokenize it\n",
    "\n",
    "sample_sentence = \"There's a flood in my street!\"\n",
    "text_vectorizer([sample_sentence])"
   ]
  },
  {
   "cell_type": "code",
   "execution_count": 721,
   "metadata": {},
   "outputs": [
    {
     "name": "stdout",
     "output_type": "stream",
     "text": [
      "Original text:\n",
      "united amp finally he was told he couldnt use the front of plane restrm he was row7 though myselfothers in rows behind him used wno issue      \n",
      "\n",
      "Vectorized version:\n"
     ]
    },
    {
     "data": {
      "text/plain": [
       "<tf.Tensor: shape=(1, 50), dtype=int64, numpy=\n",
       "array([[   6,   59,  287,  270,   24,  146,  270,  322,  254,    3,  870,\n",
       "          19,   65, 7611,  270,   24, 7508,  375, 8618,   16, 1527,  928,\n",
       "         522,  491, 3166,  251,    0,    0,    0,    0,    0,    0,    0,\n",
       "           0,    0,    0,    0,    0,    0,    0,    0,    0,    0,    0,\n",
       "           0,    0,    0,    0,    0,    0]], dtype=int64)>"
      ]
     },
     "execution_count": 721,
     "metadata": {},
     "output_type": "execute_result"
    }
   ],
   "source": [
    "# Choose a random sentence from the training dataset and tokenize it\n",
    "\n",
    "random_sentence = random.choice(x_train)\n",
    "print(f\"Original text:\\n{random_sentence}\\\n",
    "      \\n\\nVectorized version:\")\n",
    "text_vectorizer([random_sentence])"
   ]
  },
  {
   "cell_type": "code",
   "execution_count": 722,
   "metadata": {},
   "outputs": [
    {
     "name": "stdout",
     "output_type": "stream",
     "text": [
      "Number of words in vocab: 10000\n",
      "Top 5 most common words: ['', '[UNK]', 'to', 'the', 'i']\n",
      "Bottom 5 least common words: ['getyourlife', 'getyouracttogether', 'gettingoffplane', 'gettingimpatient', 'gettingbetter']\n"
     ]
    }
   ],
   "source": [
    "# Get the unique words in the vocabulary\n",
    "\n",
    "words_in_vocab = text_vectorizer.get_vocabulary()\n",
    "top_5_words = words_in_vocab[:5] # most common tokens (notice the [UNK] token for \"unknown\" words)\n",
    "bottom_5_words = words_in_vocab[-5:] # least common tokens\n",
    "print(f\"Number of words in vocab: {len(words_in_vocab)}\")\n",
    "print(f\"Top 5 most common words: {top_5_words}\") \n",
    "print(f\"Bottom 5 least common words: {bottom_5_words}\")"
   ]
  },
  {
   "cell_type": "markdown",
   "metadata": {},
   "source": [
    "#### Creating an Embedding using an Embedding Layer"
   ]
  },
  {
   "cell_type": "code",
   "execution_count": 723,
   "metadata": {},
   "outputs": [
    {
     "data": {
      "text/plain": [
       "<keras.layers.core.embedding.Embedding at 0x21ebe964f10>"
      ]
     },
     "execution_count": 723,
     "metadata": {},
     "output_type": "execute_result"
    }
   ],
   "source": [
    "from tensorflow.keras import layers\n",
    "\n",
    "embedding = layers.Embedding(input_dim=max_vocab_length, # set input shape\n",
    "                             output_dim=128, # set size of embedding vector\n",
    "                             embeddings_initializer=\"uniform\", # default, intialize randomly\n",
    "                             input_length=max_length, # how long is each input\n",
    "                             name=\"embedding\") \n",
    "\n",
    "embedding"
   ]
  },
  {
   "cell_type": "code",
   "execution_count": 724,
   "metadata": {},
   "outputs": [
    {
     "name": "stdout",
     "output_type": "stream",
     "text": [
      "Original text:\n",
      "jetblue unfortunately no but hoping i can catch one sometime in the near future      \n",
      "\n",
      "Embedded version:\n"
     ]
    },
    {
     "data": {
      "text/plain": [
       "<tf.Tensor: shape=(1, 50, 128), dtype=float32, numpy=\n",
       "array([[[-0.02048783,  0.0068352 ,  0.02710411, ..., -0.0267056 ,\n",
       "         -0.01881511, -0.02897559],\n",
       "        [ 0.01710593,  0.04546552, -0.01785681, ...,  0.00816858,\n",
       "          0.02403829, -0.02414705],\n",
       "        [ 0.04260324,  0.01541514, -0.01266507, ..., -0.01592636,\n",
       "         -0.01432161, -0.00644115],\n",
       "        ...,\n",
       "        [ 0.00851464,  0.04728678,  0.04035637, ...,  0.02437386,\n",
       "         -0.03555293,  0.01081607],\n",
       "        [ 0.00851464,  0.04728678,  0.04035637, ...,  0.02437386,\n",
       "         -0.03555293,  0.01081607],\n",
       "        [ 0.00851464,  0.04728678,  0.04035637, ...,  0.02437386,\n",
       "         -0.03555293,  0.01081607]]], dtype=float32)>"
      ]
     },
     "execution_count": 724,
     "metadata": {},
     "output_type": "execute_result"
    }
   ],
   "source": [
    "# Get a random sentence from training set\n",
    "\n",
    "random_sentence = random.choice(x_train)\n",
    "print(f\"Original text:\\n{random_sentence}\\\n",
    "      \\n\\nEmbedded version:\")\n",
    "\n",
    "# Embed the random sentence (turn it into numerical representation)\n",
    "sample_embed = embedding(text_vectorizer([random_sentence]))\n",
    "sample_embed"
   ]
  },
  {
   "cell_type": "code",
   "execution_count": 725,
   "metadata": {},
   "outputs": [
    {
     "data": {
      "text/plain": [
       "<tf.Tensor: shape=(128,), dtype=float32, numpy=\n",
       "array([-2.04878338e-02,  6.83519989e-03,  2.71041133e-02,  2.59884484e-02,\n",
       "        4.55758013e-02, -3.34402323e-02,  2.17909478e-02,  1.48013495e-02,\n",
       "        3.59011814e-03,  4.36664745e-03,  1.79292597e-02, -3.52296457e-02,\n",
       "        1.92313530e-02,  3.72726806e-02,  3.07117365e-02, -2.44505648e-02,\n",
       "       -4.08100970e-02, -1.45572200e-02,  1.36914290e-02,  9.91985947e-03,\n",
       "        1.98727958e-02,  9.63522121e-03,  4.84780706e-02, -2.02134848e-02,\n",
       "        3.15289982e-02, -2.52976660e-02,  3.13499682e-02,  8.74564797e-03,\n",
       "       -2.35851854e-03,  2.19667666e-02,  3.84691842e-02, -4.40165661e-02,\n",
       "        6.23104721e-03, -3.12142856e-02,  4.13691066e-02, -1.04375370e-02,\n",
       "       -2.70416141e-02,  2.60214545e-02, -9.48891789e-03, -4.80411537e-02,\n",
       "       -3.22206840e-02,  1.03416070e-02,  2.14910395e-02, -2.28145253e-02,\n",
       "       -6.31452724e-03,  4.54590060e-02, -2.40924116e-02, -1.97240114e-02,\n",
       "       -1.76220015e-03, -2.67732870e-02,  3.82537954e-02, -2.00477727e-02,\n",
       "        1.64456405e-02,  4.42715175e-02,  4.25387546e-03,  4.66006435e-02,\n",
       "        1.67844184e-02, -4.25779484e-02, -7.57509470e-03,  1.90514587e-02,\n",
       "        4.78234626e-02,  6.83965534e-03, -4.34011482e-02, -1.42571218e-02,\n",
       "       -1.20183937e-02,  4.04684618e-03,  9.91334766e-03, -2.79930364e-02,\n",
       "       -3.48732360e-02,  4.55223210e-02, -2.25507971e-02,  3.42976190e-02,\n",
       "        4.01822589e-02,  3.91074903e-02,  4.44005392e-02,  1.79487951e-02,\n",
       "       -4.45831306e-02, -3.86686698e-02,  1.33451931e-02,  4.44192998e-02,\n",
       "       -3.41181308e-02,  3.52793932e-03, -3.11667677e-02,  2.72368453e-02,\n",
       "        4.23972346e-02, -8.19079578e-05, -3.41569781e-02,  2.49840952e-02,\n",
       "        1.05175152e-02,  2.61308998e-03, -4.28233296e-03, -4.49710600e-02,\n",
       "        4.40292992e-02, -2.37331744e-02, -4.14087884e-02, -2.86866315e-02,\n",
       "       -3.92612219e-02, -8.96134228e-03,  8.19923729e-03, -1.23025402e-02,\n",
       "        4.09425832e-02, -1.68070681e-02, -8.70067999e-03, -1.45430453e-02,\n",
       "        2.40257122e-02,  3.86719219e-02,  1.66729949e-02,  2.19587423e-02,\n",
       "       -2.85340305e-02, -2.91508194e-02, -4.44237366e-02,  4.25490476e-02,\n",
       "        2.54748352e-02,  9.39022750e-04,  7.82289356e-03, -3.46066840e-02,\n",
       "       -4.62830923e-02,  1.62670948e-02,  1.94294490e-02, -4.79592197e-02,\n",
       "        4.35573943e-02,  2.82283686e-02,  3.78738716e-03,  4.86859940e-02,\n",
       "       -3.34379226e-02, -2.67055985e-02, -1.88151132e-02, -2.89755948e-02],\n",
       "      dtype=float32)>"
      ]
     },
     "execution_count": 725,
     "metadata": {},
     "output_type": "execute_result"
    }
   ],
   "source": [
    "# Check out a single token's embedding\n",
    "\n",
    "sample_embed[0][0]"
   ]
  },
  {
   "cell_type": "markdown",
   "metadata": {},
   "source": [
    "### GRU model"
   ]
  },
  {
   "cell_type": "markdown",
   "metadata": {},
   "source": [
    "Input (text) -> Tokenize -> Embedding -> Layers -> Output (label probability)"
   ]
  },
  {
   "cell_type": "code",
   "execution_count": 726,
   "metadata": {},
   "outputs": [],
   "source": [
    "# Set random seed and embedding layer\n",
    "tf.random.set_seed(42)\n",
    "\n",
    "from tensorflow.keras import layers\n",
    "\n",
    "# Build an RNN using the GRU cell\n",
    "inputs = layers.Input(shape=(1,), dtype=\"string\")\n",
    "x = text_vectorizer(inputs)\n",
    "x = embedding(x)\n",
    "\n",
    "# x = layers.GRU(64, return_sequences=True) # stacking recurrent cells requires return_sequences=True\n",
    "x = layers.GRU(64)(x) \n",
    "\n",
    "# x = layers.Dense(64, activation=\"relu\")(x) # optional dense layer after GRU cell\n",
    "outputs = layers.Dense(3, activation=\"softmax\")(x)\n",
    "\n",
    "model = tf.keras.Model(inputs, outputs, name=\"model_GRU\")"
   ]
  },
  {
   "cell_type": "code",
   "execution_count": 727,
   "metadata": {},
   "outputs": [],
   "source": [
    "# Compile GRU model\n",
    "model.compile(loss=\"sparse_categorical_crossentropy\",\n",
    "                optimizer=tf.keras.optimizers.Adam(),\n",
    "                metrics=[\"accuracy\"])"
   ]
  },
  {
   "cell_type": "code",
   "execution_count": 728,
   "metadata": {},
   "outputs": [
    {
     "name": "stdout",
     "output_type": "stream",
     "text": [
      "Model: \"model_GRU\"\n",
      "_________________________________________________________________\n",
      " Layer (type)                Output Shape              Param #   \n",
      "=================================================================\n",
      " input_23 (InputLayer)       [(None, 1)]               0         \n",
      "                                                                 \n",
      " text_vectorization_20 (Text  (None, 50)               0         \n",
      " Vectorization)                                                  \n",
      "                                                                 \n",
      " embedding (Embedding)       (None, 50, 128)           1280000   \n",
      "                                                                 \n",
      " gru_20 (GRU)                (None, 64)                37248     \n",
      "                                                                 \n",
      " dense_20 (Dense)            (None, 3)                 195       \n",
      "                                                                 \n",
      "=================================================================\n",
      "Total params: 1,317,443\n",
      "Trainable params: 1,317,443\n",
      "Non-trainable params: 0\n",
      "_________________________________________________________________\n"
     ]
    }
   ],
   "source": [
    "# Get a summary of the GRU model\n",
    "model.summary()"
   ]
  },
  {
   "cell_type": "code",
   "execution_count": 729,
   "metadata": {},
   "outputs": [],
   "source": [
    "# Create ModelCheckpoint callback\n",
    "from tensorflow.keras.callbacks import ModelCheckpoint\n",
    "\n",
    "checkpoint_path = \"./best_model.GRU\"\n",
    "model_checkpoint = ModelCheckpoint(checkpoint_path, \n",
    "                                   monitor='val_accuracy', \n",
    "                                   save_best_only=True, \n",
    "                                   mode='max', \n",
    "                                   verbose=1)\n"
   ]
  },
  {
   "cell_type": "code",
   "execution_count": 730,
   "metadata": {},
   "outputs": [
    {
     "name": "stdout",
     "output_type": "stream",
     "text": [
      "Saving TensorBoard log files to: ./logs/GRU_model/20240201-113354\n",
      "Epoch 1/5\n"
     ]
    },
    {
     "name": "stdout",
     "output_type": "stream",
     "text": [
      "366/366 [==============================] - ETA: 0s - loss: 0.9230 - accuracy: 0.6252\n",
      "Epoch 1: val_accuracy improved from -inf to 0.62671, saving model to .\\best_model.GRU\n"
     ]
    },
    {
     "name": "stderr",
     "output_type": "stream",
     "text": [
      "WARNING:absl:Found untraced functions such as gru_cell_22_layer_call_fn, gru_cell_22_layer_call_and_return_conditional_losses while saving (showing 2 of 2). These functions will not be directly callable after loading.\n"
     ]
    },
    {
     "name": "stdout",
     "output_type": "stream",
     "text": [
      "INFO:tensorflow:Assets written to: .\\best_model.GRU\\assets\n"
     ]
    },
    {
     "name": "stderr",
     "output_type": "stream",
     "text": [
      "INFO:tensorflow:Assets written to: .\\best_model.GRU\\assets\n"
     ]
    },
    {
     "name": "stdout",
     "output_type": "stream",
     "text": [
      "366/366 [==============================] - 8s 18ms/step - loss: 0.9230 - accuracy: 0.6252 - val_loss: 0.9222 - val_accuracy: 0.6267\n",
      "Epoch 2/5\n",
      "366/366 [==============================] - ETA: 0s - loss: 0.9176 - accuracy: 0.6270\n",
      "Epoch 2: val_accuracy did not improve from 0.62671\n",
      "366/366 [==============================] - 3s 9ms/step - loss: 0.9176 - accuracy: 0.6270 - val_loss: 0.9120 - val_accuracy: 0.6267\n",
      "Epoch 3/5\n",
      "360/366 [============================>.] - ETA: 0s - loss: 0.6423 - accuracy: 0.7339\n",
      "Epoch 3: val_accuracy improved from 0.62671 to 0.78484, saving model to .\\best_model.GRU\n"
     ]
    },
    {
     "name": "stderr",
     "output_type": "stream",
     "text": [
      "WARNING:absl:Found untraced functions such as gru_cell_22_layer_call_fn, gru_cell_22_layer_call_and_return_conditional_losses while saving (showing 2 of 2). These functions will not be directly callable after loading.\n"
     ]
    },
    {
     "name": "stdout",
     "output_type": "stream",
     "text": [
      "INFO:tensorflow:Assets written to: .\\best_model.GRU\\assets\n"
     ]
    },
    {
     "name": "stderr",
     "output_type": "stream",
     "text": [
      "INFO:tensorflow:Assets written to: .\\best_model.GRU\\assets\n"
     ]
    },
    {
     "name": "stdout",
     "output_type": "stream",
     "text": [
      "366/366 [==============================] - 6s 16ms/step - loss: 0.6415 - accuracy: 0.7344 - val_loss: 0.5467 - val_accuracy: 0.7848\n",
      "Epoch 4/5\n",
      "366/366 [==============================] - ETA: 0s - loss: 0.4134 - accuracy: 0.8440\n",
      "Epoch 4: val_accuracy improved from 0.78484 to 0.80635, saving model to .\\best_model.GRU\n"
     ]
    },
    {
     "name": "stderr",
     "output_type": "stream",
     "text": [
      "WARNING:absl:Found untraced functions such as gru_cell_22_layer_call_fn, gru_cell_22_layer_call_and_return_conditional_losses while saving (showing 2 of 2). These functions will not be directly callable after loading.\n"
     ]
    },
    {
     "name": "stdout",
     "output_type": "stream",
     "text": [
      "INFO:tensorflow:Assets written to: .\\best_model.GRU\\assets\n"
     ]
    },
    {
     "name": "stderr",
     "output_type": "stream",
     "text": [
      "INFO:tensorflow:Assets written to: .\\best_model.GRU\\assets\n"
     ]
    },
    {
     "name": "stdout",
     "output_type": "stream",
     "text": [
      "366/366 [==============================] - 6s 18ms/step - loss: 0.4134 - accuracy: 0.8440 - val_loss: 0.5177 - val_accuracy: 0.8064\n",
      "Epoch 5/5\n",
      "360/366 [============================>.] - ETA: 0s - loss: 0.2620 - accuracy: 0.9079\n",
      "Epoch 5: val_accuracy did not improve from 0.80635\n",
      "366/366 [==============================] - 3s 9ms/step - loss: 0.2642 - accuracy: 0.9071 - val_loss: 0.5654 - val_accuracy: 0.7988\n"
     ]
    }
   ],
   "source": [
    "# Fit model\n",
    "SAVE_DIR = \"./logs\"\n",
    "model_history = model.fit(x_train,\n",
    "                          y_train,\n",
    "                          epochs=5,\n",
    "                          validation_data=(x_test, y_test),\n",
    "                          callbacks=[create_tensorboard_callback(SAVE_DIR, \"GRU_model\"), model_checkpoint])"
   ]
  },
  {
   "cell_type": "markdown",
   "metadata": {},
   "source": [
    "<font size=\"3\">Due to the optimized default settings of the GRU cell in TensorFlow, training doesn't take long at all.</font>"
   ]
  },
  {
   "cell_type": "code",
   "execution_count": 731,
   "metadata": {},
   "outputs": [
    {
     "data": {
      "image/png": "[encoded data removed]",
      "text/plain": [
       "<Figure size 640x480 with 1 Axes>"
      ]
     },
     "metadata": {},
     "output_type": "display_data"
    },
    {
     "data": {
      "image/png": "[encoded data removed]",
      "text/plain": [
       "<Figure size 640x480 with 1 Axes>"
      ]
     },
     "metadata": {},
     "output_type": "display_data"
    }
   ],
   "source": [
    "plot_loss_curves(model_history)\n",
    "plt.show()"
   ]
  },
  {
   "cell_type": "code",
   "execution_count": 732,
   "metadata": {},
   "outputs": [
    {
     "name": "stdout",
     "output_type": "stream",
     "text": [
      "92/92 [==============================] - 1s 4ms/step\n"
     ]
    },
    {
     "data": {
      "text/plain": [
       "((2928, 3),\n",
       " array([[3.5929140e-01, 6.0607469e-01, 3.4633826e-02],\n",
       "        [6.4137526e-02, 7.9646267e-02, 8.5621619e-01],\n",
       "        [9.9285156e-01, 5.2542104e-03, 1.8941631e-03],\n",
       "        [2.9618639e-01, 6.4546728e-01, 5.8346294e-02],\n",
       "        [9.5066446e-01, 2.7177757e-02, 2.2157829e-02],\n",
       "        [9.7467256e-01, 1.8668097e-02, 6.6593084e-03],\n",
       "        [1.0795727e-01, 8.1542200e-01, 7.6620817e-02],\n",
       "        [8.1048137e-01, 1.6287622e-01, 2.6642401e-02],\n",
       "        [9.9899131e-01, 7.3480472e-04, 2.7388378e-04],\n",
       "        [9.8179919e-01, 1.5228244e-02, 2.9726089e-03]], dtype=float32))"
      ]
     },
     "execution_count": 732,
     "metadata": {},
     "output_type": "execute_result"
    }
   ],
   "source": [
    "# Make predictions on the validation data\n",
    "\n",
    "model_pred_probs = model.predict(x_test)\n",
    "model_pred_probs.shape, model_pred_probs[:10]"
   ]
  },
  {
   "cell_type": "code",
   "execution_count": 733,
   "metadata": {},
   "outputs": [
    {
     "data": {
      "text/plain": [
       "<tf.Tensor: shape=(10, 3), dtype=float32, numpy=\n",
       "array([[0., 1., 0.],\n",
       "       [0., 0., 1.],\n",
       "       [1., 0., 0.],\n",
       "       [0., 1., 0.],\n",
       "       [1., 0., 0.],\n",
       "       [1., 0., 0.],\n",
       "       [0., 1., 0.],\n",
       "       [1., 0., 0.],\n",
       "       [1., 0., 0.],\n",
       "       [1., 0., 0.]], dtype=float32)>"
      ]
     },
     "execution_count": 733,
     "metadata": {},
     "output_type": "execute_result"
    }
   ],
   "source": [
    "# Convert prediction probabilities to prediction classes\n",
    "\n",
    "model_preds = tf.squeeze(tf.round(model_pred_probs))\n",
    "model_preds[:10]"
   ]
  },
  {
   "cell_type": "markdown",
   "metadata": {},
   "source": [
    "### Evaluate model GRU"
   ]
  },
  {
   "cell_type": "code",
   "execution_count": 734,
   "metadata": {},
   "outputs": [],
   "source": [
    "from sklearn.metrics import accuracy_score, precision_recall_fscore_support\n",
    "\n",
    "def calculate_results(y_true, y_pred):\n",
    "\n",
    "    # Convert one-hot encoded labels to class labels\n",
    "    y_true_classes = np.argmax(y_true, axis=1) if len(y_true.shape) > 1 else y_true\n",
    "    y_pred_classes = np.argmax(y_pred, axis=1) if len(y_pred.shape) > 1 else y_pred\n",
    "\n",
    "    # Calculate model accuracy\n",
    "    model_accuracy = accuracy_score(y_true_classes, y_pred_classes) * 100\n",
    "    \n",
    "    # Calculate model precision, recall, and f1 score using \"weighted average\"\n",
    "    model_precision, model_recall, model_f1, _ = precision_recall_fscore_support(y_true_classes, y_pred_classes, average=\"weighted\")\n",
    "    model_results = {\"accuracy\": model_accuracy,\n",
    "                     \"precision\": model_precision,\n",
    "                     \"recall\": model_recall,\n",
    "                     \"f1\": model_f1}\n",
    "    return model_results"
   ]
  },
  {
   "cell_type": "code",
   "execution_count": 735,
   "metadata": {},
   "outputs": [
    {
     "data": {
      "text/plain": [
       "{'accuracy': 79.78142076502732,\n",
       " 'precision': 0.7893364330606242,\n",
       " 'recall': 0.7978142076502732,\n",
       " 'f1': 0.7882463459524043}"
      ]
     },
     "execution_count": 735,
     "metadata": {},
     "output_type": "execute_result"
    }
   ],
   "source": [
    "model_results = calculate_results(y_true=y_test, y_pred=model_preds)\n",
    "model_results"
   ]
  },
  {
   "cell_type": "code",
   "execution_count": 736,
   "metadata": {},
   "outputs": [
    {
     "name": "stdout",
     "output_type": "stream",
     "text": [
      "92/92 [==============================] - 1s 6ms/step - loss: 0.5177 - accuracy: 0.8064\n",
      "Test Accuracy: 0.806352436542511\n",
      "Test Loss: 0.517694354057312\n"
     ]
    }
   ],
   "source": [
    "from tensorflow.keras.models import load_model\n",
    "\n",
    "# Load the best model\n",
    "best_model = load_model(\"./best_model.GRU\")\n",
    "\n",
    "# Evaluate the best model on the test data\n",
    "evaluation_results = best_model.evaluate(x_test, y_test)\n",
    "\n",
    "# Print the evaluation results\n",
    "print(\"Test Accuracy:\", evaluation_results[1])\n",
    "print(\"Test Loss:\", evaluation_results[0])"
   ]
  },
  {
   "cell_type": "markdown",
   "metadata": {},
   "source": [
    "### BERT model"
   ]
  }
 ],
 "metadata": {
  "kernelspec": {
   "display_name": "Mytensorflow",
   "language": "python",
   "name": "python3"
  },
  "language_info": {
   "codemirror_mode": {
    "name": "ipython",
    "version": 3
   },
   "file_extension": ".py",
   "mimetype": "text/x-python",
   "name": "python",
   "nbconvert_exporter": "python",
   "pygments_lexer": "ipython3",
   "version": "3.9.18"
  }
 },
 "nbformat": 4,
 "nbformat_minor": 2
}
